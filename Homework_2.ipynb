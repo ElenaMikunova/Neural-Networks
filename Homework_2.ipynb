{
 "cells": [
  {
   "cell_type": "code",
   "execution_count": 1,
   "id": "280c7295",
   "metadata": {},
   "outputs": [],
   "source": [
    "import keras\n",
    "import matplotlib.pyplot as plt\n",
    "import numpy as np\n",
    "from keras.datasets import fashion_mnist"
   ]
  },
  {
   "cell_type": "code",
   "execution_count": 2,
   "id": "d1c2423b",
   "metadata": {},
   "outputs": [
    {
     "name": "stdout",
     "output_type": "stream",
     "text": [
      "(60000, 28, 28) (10000, 28, 28)\n",
      "(60000,)\n"
     ]
    }
   ],
   "source": [
    "(X_train, y_train_labels), (X_test, y_test_labels) = fashion_mnist.load_data()\n",
    "\n",
    "print(X_train.shape, X_test.shape)\n",
    "print(y_train_labels.shape)"
   ]
  },
  {
   "cell_type": "code",
   "execution_count": 3,
   "id": "d70c731f",
   "metadata": {},
   "outputs": [
    {
     "name": "stdout",
     "output_type": "stream",
     "text": [
      "Label is 9\n"
     ]
    },
    {
     "data": {
      "image/png": "[encoded data removed]",
      "text/plain": [
       "<Figure size 432x288 with 1 Axes>"
      ]
     },
     "metadata": {
      "needs_background": "light"
     },
     "output_type": "display_data"
    }
   ],
   "source": [
    "ind = np.random.randint(0, X_train.shape[0])\n",
    "plt.imshow(X_train[ind], cmap='gray')\n",
    "print(f'Label is {y_train_labels[ind]}')"
   ]
  },
  {
   "cell_type": "code",
   "execution_count": 4,
   "id": "1773f365",
   "metadata": {},
   "outputs": [
    {
     "data": {
      "text/plain": [
       "(0, 255)"
      ]
     },
     "execution_count": 4,
     "metadata": {},
     "output_type": "execute_result"
    }
   ],
   "source": [
    "X_train.min(), X_train.max()"
   ]
  },
  {
   "cell_type": "code",
   "execution_count": 5,
   "id": "935632d9",
   "metadata": {},
   "outputs": [
    {
     "data": {
      "text/plain": [
       "(0.0, 1.0)"
      ]
     },
     "execution_count": 5,
     "metadata": {},
     "output_type": "execute_result"
    }
   ],
   "source": [
    "X_train = X_train / 255.0\n",
    "X_test = X_test / 255.0\n",
    "X_train.min(), X_train.max()"
   ]
  },
  {
   "cell_type": "code",
   "execution_count": 6,
   "id": "4e74b2e6",
   "metadata": {},
   "outputs": [
    {
     "data": {
      "text/plain": [
       "((60000, 784), (10000, 784))"
      ]
     },
     "execution_count": 6,
     "metadata": {},
     "output_type": "execute_result"
    }
   ],
   "source": [
    "X_train = X_train.reshape((-1, 28 * 28))\n",
    "X_test = X_test.reshape((-1, 28 * 28))\n",
    "\n",
    "X_train.shape, X_test.shape"
   ]
  },
  {
   "cell_type": "code",
   "execution_count": 7,
   "id": "3647224d",
   "metadata": {},
   "outputs": [],
   "source": [
    "from keras.utils.np_utils import to_categorical\n",
    "\n",
    "\n",
    "y_train = to_categorical(y_train_labels)\n",
    "y_test = to_categorical(y_test_labels)"
   ]
  },
  {
   "cell_type": "code",
   "execution_count": 8,
   "id": "82faaf8f",
   "metadata": {},
   "outputs": [],
   "source": [
    "from keras.layers import Dense\n",
    "from keras.models import Sequential"
   ]
  },
  {
   "cell_type": "code",
   "execution_count": 9,
   "id": "a5718ede",
   "metadata": {},
   "outputs": [
    {
     "name": "stdout",
     "output_type": "stream",
     "text": [
      "Model: \"sequential\"\n",
      "_________________________________________________________________\n",
      " Layer (type)                Output Shape              Param #   \n",
      "=================================================================\n",
      " dense (Dense)               (None, 64)                50240     \n",
      "                                                                 \n",
      " dense_1 (Dense)             (None, 10)                650       \n",
      "                                                                 \n",
      "=================================================================\n",
      "Total params: 50,890\n",
      "Trainable params: 50,890\n",
      "Non-trainable params: 0\n",
      "_________________________________________________________________\n"
     ]
    }
   ],
   "source": [
    "model_1 = Sequential([\n",
    "    Dense(64, input_shape=(28 * 28,), activation='relu'),\n",
    "    Dense(10, activation='sigmoid')\n",
    "])\n",
    "\n",
    "model_1.summary()"
   ]
  },
  {
   "cell_type": "code",
   "execution_count": 10,
   "id": "6d2f01e8",
   "metadata": {},
   "outputs": [],
   "source": [
    "model_1.compile(loss='categorical_crossentropy', optimizer='SGD', metrics=['accuracy'])"
   ]
  },
  {
   "cell_type": "code",
   "execution_count": 11,
   "id": "17b13036",
   "metadata": {},
   "outputs": [
    {
     "name": "stdout",
     "output_type": "stream",
     "text": [
      "Epoch 1/5\n",
      "235/235 [==============================] - 3s 7ms/step - loss: 1.3532 - accuracy: 0.6065 - val_loss: 0.9476 - val_accuracy: 0.7121\n",
      "Epoch 2/5\n",
      "235/235 [==============================] - 1s 4ms/step - loss: 0.8306 - accuracy: 0.7408 - val_loss: 0.7710 - val_accuracy: 0.7482\n",
      "Epoch 3/5\n",
      "235/235 [==============================] - 1s 6ms/step - loss: 0.7136 - accuracy: 0.7713 - val_loss: 0.6951 - val_accuracy: 0.7717\n",
      "Epoch 4/5\n",
      "235/235 [==============================] - 2s 7ms/step - loss: 0.6539 - accuracy: 0.7874 - val_loss: 0.6501 - val_accuracy: 0.7831\n",
      "Epoch 5/5\n",
      "235/235 [==============================] - 1s 6ms/step - loss: 0.6155 - accuracy: 0.7980 - val_loss: 0.6170 - val_accuracy: 0.7921\n"
     ]
    }
   ],
   "source": [
    "history_1 = model_1.fit(X_train, y_train,\n",
    "                    epochs=5,\n",
    "                    batch_size=256,\n",
    "                    verbose=1,\n",
    "                    validation_data=(X_test, y_test)\n",
    "                    )"
   ]
  },
  {
   "cell_type": "code",
   "execution_count": 12,
   "id": "545a6bbf",
   "metadata": {},
   "outputs": [
    {
     "name": "stdout",
     "output_type": "stream",
     "text": [
      "Model: \"sequential_1\"\n",
      "_________________________________________________________________\n",
      " Layer (type)                Output Shape              Param #   \n",
      "=================================================================\n",
      " dense_2 (Dense)             (None, 32)                25120     \n",
      "                                                                 \n",
      " dense_3 (Dense)             (None, 10)                330       \n",
      "                                                                 \n",
      "=================================================================\n",
      "Total params: 25,450\n",
      "Trainable params: 25,450\n",
      "Non-trainable params: 0\n",
      "_________________________________________________________________\n"
     ]
    }
   ],
   "source": [
    "model_2 = Sequential([\n",
    "    Dense(32, input_shape=(28 * 28,), activation='relu'),\n",
    "    Dense(10, activation='sigmoid')\n",
    "])\n",
    "\n",
    "model_2.summary()"
   ]
  },
  {
   "cell_type": "code",
   "execution_count": 13,
   "id": "fe8aa464",
   "metadata": {},
   "outputs": [
    {
     "name": "stdout",
     "output_type": "stream",
     "text": [
      "Epoch 1/5\n",
      "235/235 [==============================] - 1s 5ms/step - loss: 0.5875 - accuracy: 0.8058 - val_loss: 0.5981 - val_accuracy: 0.7959\n",
      "Epoch 2/5\n",
      "235/235 [==============================] - 1s 5ms/step - loss: 0.5660 - accuracy: 0.8123 - val_loss: 0.5774 - val_accuracy: 0.8025\n",
      "Epoch 3/5\n",
      "235/235 [==============================] - 2s 7ms/step - loss: 0.5492 - accuracy: 0.8171 - val_loss: 0.5684 - val_accuracy: 0.8009\n",
      "Epoch 4/5\n",
      "235/235 [==============================] - 2s 7ms/step - loss: 0.5354 - accuracy: 0.8209 - val_loss: 0.5543 - val_accuracy: 0.8102\n",
      "Epoch 5/5\n",
      "235/235 [==============================] - 2s 8ms/step - loss: 0.5234 - accuracy: 0.8237 - val_loss: 0.5413 - val_accuracy: 0.8143\n"
     ]
    }
   ],
   "source": [
    "model_2.compile(loss='categorical_crossentropy', optimizer='SGD', metrics=['accuracy'])\n",
    "\n",
    "history_2 = model_1.fit(X_train, y_train,\n",
    "                    epochs=5,\n",
    "                    batch_size=256,\n",
    "                    verbose=1,\n",
    "                    validation_data=(X_test, y_test)\n",
    "                    )"
   ]
  },
  {
   "cell_type": "code",
   "execution_count": 14,
   "id": "dbbd74bf",
   "metadata": {},
   "outputs": [
    {
     "name": "stdout",
     "output_type": "stream",
     "text": [
      "Model: \"sequential_2\"\n",
      "_________________________________________________________________\n",
      " Layer (type)                Output Shape              Param #   \n",
      "=================================================================\n",
      " dense_4 (Dense)             (None, 128)               100480    \n",
      "                                                                 \n",
      " dense_5 (Dense)             (None, 10)                1290      \n",
      "                                                                 \n",
      "=================================================================\n",
      "Total params: 101,770\n",
      "Trainable params: 101,770\n",
      "Non-trainable params: 0\n",
      "_________________________________________________________________\n"
     ]
    }
   ],
   "source": [
    "model_3 = Sequential([\n",
    "    Dense(128, input_shape=(28 * 28,), activation='relu'),\n",
    "    Dense(10, activation='sigmoid')\n",
    "])\n",
    "\n",
    "model_3.summary()"
   ]
  },
  {
   "cell_type": "code",
   "execution_count": 15,
   "id": "ba40e64d",
   "metadata": {},
   "outputs": [
    {
     "name": "stdout",
     "output_type": "stream",
     "text": [
      "Epoch 1/5\n",
      "235/235 [==============================] - 2s 8ms/step - loss: 0.5139 - accuracy: 0.8274 - val_loss: 0.5337 - val_accuracy: 0.8163\n",
      "Epoch 2/5\n",
      "235/235 [==============================] - 1s 5ms/step - loss: 0.5052 - accuracy: 0.8293 - val_loss: 0.5263 - val_accuracy: 0.8176\n",
      "Epoch 3/5\n",
      "235/235 [==============================] - 2s 7ms/step - loss: 0.4977 - accuracy: 0.8303 - val_loss: 0.5262 - val_accuracy: 0.8146\n",
      "Epoch 4/5\n",
      "235/235 [==============================] - 1s 6ms/step - loss: 0.4906 - accuracy: 0.8333 - val_loss: 0.5141 - val_accuracy: 0.8212\n",
      "Epoch 5/5\n",
      "235/235 [==============================] - 1s 6ms/step - loss: 0.4845 - accuracy: 0.8348 - val_loss: 0.5079 - val_accuracy: 0.8245\n"
     ]
    }
   ],
   "source": [
    "model_3.compile(loss='categorical_crossentropy', optimizer='SGD', metrics=['accuracy'])\n",
    "\n",
    "history_3 = model_1.fit(X_train, y_train,\n",
    "                    epochs=5,\n",
    "                    batch_size=256,\n",
    "                    verbose=1,\n",
    "                    validation_data=(X_test, y_test)\n",
    "                    )"
   ]
  },
  {
   "cell_type": "markdown",
   "id": "11a4fcd6",
   "metadata": {},
   "source": [
    "Если менять чило нейронов в скрытом слое двуслойной сети, можно заметить изменение метрик. Казалось бы, от увеличения числа нейронов loss должен был бы уменьшаться, а accuracy - увеличиваться, тем не менее, худший результат стабильно показывает двуслойная сеть с 64 нейронами, сеть с 32 нейронами точнее и на тенировочном, и на тестовом наборе; лучший же результат у сети с 128 нейронами."
   ]
  },
  {
   "cell_type": "code",
   "execution_count": 16,
   "id": "fc41320b",
   "metadata": {},
   "outputs": [
    {
     "name": "stdout",
     "output_type": "stream",
     "text": [
      "Model: \"sequential_3\"\n",
      "_________________________________________________________________\n",
      " Layer (type)                Output Shape              Param #   \n",
      "=================================================================\n",
      " dense_6 (Dense)             (None, 64)                50240     \n",
      "                                                                 \n",
      " dense_7 (Dense)             (None, 32)                2080      \n",
      "                                                                 \n",
      " dense_8 (Dense)             (None, 10)                330       \n",
      "                                                                 \n",
      "=================================================================\n",
      "Total params: 52,650\n",
      "Trainable params: 52,650\n",
      "Non-trainable params: 0\n",
      "_________________________________________________________________\n"
     ]
    }
   ],
   "source": [
    "model_4 = Sequential([\n",
    "    Dense(64, input_shape=(28 * 28,), activation='relu'),\n",
    "    Dense(32, activation='relu'),\n",
    "    Dense(10, activation='sigmoid')\n",
    "])\n",
    "\n",
    "model_4.summary()"
   ]
  },
  {
   "cell_type": "code",
   "execution_count": 17,
   "id": "903ba9eb",
   "metadata": {},
   "outputs": [
    {
     "name": "stdout",
     "output_type": "stream",
     "text": [
      "Epoch 1/5\n",
      "235/235 [==============================] - 1s 6ms/step - loss: 0.4787 - accuracy: 0.8364 - val_loss: 0.5042 - val_accuracy: 0.8241\n",
      "Epoch 2/5\n",
      "235/235 [==============================] - 1s 5ms/step - loss: 0.4736 - accuracy: 0.8380 - val_loss: 0.4998 - val_accuracy: 0.8278\n",
      "Epoch 3/5\n",
      "235/235 [==============================] - 1s 6ms/step - loss: 0.4688 - accuracy: 0.8392 - val_loss: 0.5003 - val_accuracy: 0.8247\n",
      "Epoch 4/5\n",
      "235/235 [==============================] - 2s 7ms/step - loss: 0.4643 - accuracy: 0.8406 - val_loss: 0.4904 - val_accuracy: 0.8300\n",
      "Epoch 5/5\n",
      "235/235 [==============================] - 1s 5ms/step - loss: 0.4602 - accuracy: 0.8416 - val_loss: 0.4876 - val_accuracy: 0.8297\n"
     ]
    }
   ],
   "source": [
    "model_4.compile(loss='categorical_crossentropy', optimizer='SGD', metrics=['accuracy'])\n",
    "\n",
    "history_4 = model_1.fit(X_train, y_train,\n",
    "                    epochs=5,\n",
    "                    batch_size=256,\n",
    "                    verbose=1,\n",
    "                    validation_data=(X_test, y_test)\n",
    "                    )"
   ]
  },
  {
   "cell_type": "code",
   "execution_count": 18,
   "id": "a87285c2",
   "metadata": {},
   "outputs": [
    {
     "name": "stdout",
     "output_type": "stream",
     "text": [
      "Model: \"sequential_4\"\n",
      "_________________________________________________________________\n",
      " Layer (type)                Output Shape              Param #   \n",
      "=================================================================\n",
      " dense_9 (Dense)             (None, 64)                50240     \n",
      "                                                                 \n",
      " dense_10 (Dense)            (None, 32)                2080      \n",
      "                                                                 \n",
      " dense_11 (Dense)            (None, 32)                1056      \n",
      "                                                                 \n",
      " dense_12 (Dense)            (None, 32)                1056      \n",
      "                                                                 \n",
      " dense_13 (Dense)            (None, 10)                330       \n",
      "                                                                 \n",
      "=================================================================\n",
      "Total params: 54,762\n",
      "Trainable params: 54,762\n",
      "Non-trainable params: 0\n",
      "_________________________________________________________________\n"
     ]
    }
   ],
   "source": [
    "model_5 = Sequential([\n",
    "    Dense(64, input_shape=(28 * 28,), activation='relu'),\n",
    "    Dense(32, activation='relu'),\n",
    "    Dense(32, activation='relu'),\n",
    "    Dense(32, activation='relu'),\n",
    "    Dense(10, activation='sigmoid')\n",
    "])\n",
    "\n",
    "model_5.summary()"
   ]
  },
  {
   "cell_type": "code",
   "execution_count": 19,
   "id": "e246495e",
   "metadata": {},
   "outputs": [
    {
     "name": "stdout",
     "output_type": "stream",
     "text": [
      "Epoch 1/5\n",
      "235/235 [==============================] - 2s 6ms/step - loss: 0.4561 - accuracy: 0.8431 - val_loss: 0.4833 - val_accuracy: 0.8318\n",
      "Epoch 2/5\n",
      "235/235 [==============================] - 1s 5ms/step - loss: 0.4527 - accuracy: 0.8445 - val_loss: 0.4812 - val_accuracy: 0.8306\n",
      "Epoch 3/5\n",
      "235/235 [==============================] - 1s 6ms/step - loss: 0.4492 - accuracy: 0.8460 - val_loss: 0.4780 - val_accuracy: 0.8326\n",
      "Epoch 4/5\n",
      "235/235 [==============================] - 1s 6ms/step - loss: 0.4459 - accuracy: 0.8467 - val_loss: 0.4779 - val_accuracy: 0.8328\n",
      "Epoch 5/5\n",
      "235/235 [==============================] - 1s 5ms/step - loss: 0.4430 - accuracy: 0.8476 - val_loss: 0.4719 - val_accuracy: 0.8343\n"
     ]
    }
   ],
   "source": [
    "model_5.compile(loss='categorical_crossentropy', optimizer='SGD', metrics=['accuracy'])\n",
    "\n",
    "history_5 = model_1.fit(X_train, y_train,\n",
    "                    epochs=5,\n",
    "                    batch_size=256,\n",
    "                    verbose=1,\n",
    "                    validation_data=(X_test, y_test)\n",
    "                    )"
   ]
  },
  {
   "cell_type": "code",
   "execution_count": 20,
   "id": "bfc16c35",
   "metadata": {},
   "outputs": [
    {
     "name": "stdout",
     "output_type": "stream",
     "text": [
      "Model: \"sequential_5\"\n",
      "_________________________________________________________________\n",
      " Layer (type)                Output Shape              Param #   \n",
      "=================================================================\n",
      " dense_14 (Dense)            (None, 64)                50240     \n",
      "                                                                 \n",
      " dense_15 (Dense)            (None, 32)                2080      \n",
      "                                                                 \n",
      " dense_16 (Dense)            (None, 32)                1056      \n",
      "                                                                 \n",
      " dense_17 (Dense)            (None, 32)                1056      \n",
      "                                                                 \n",
      " dense_18 (Dense)            (None, 32)                1056      \n",
      "                                                                 \n",
      " dense_19 (Dense)            (None, 32)                1056      \n",
      "                                                                 \n",
      " dense_20 (Dense)            (None, 32)                1056      \n",
      "                                                                 \n",
      " dense_21 (Dense)            (None, 32)                1056      \n",
      "                                                                 \n",
      " dense_22 (Dense)            (None, 32)                1056      \n",
      "                                                                 \n",
      " dense_23 (Dense)            (None, 10)                330       \n",
      "                                                                 \n",
      "=================================================================\n",
      "Total params: 60,042\n",
      "Trainable params: 60,042\n",
      "Non-trainable params: 0\n",
      "_________________________________________________________________\n"
     ]
    }
   ],
   "source": [
    "model_6 = Sequential([\n",
    "    Dense(64, input_shape=(28 * 28,), activation='relu'),\n",
    "    Dense(32, activation='relu'),\n",
    "    Dense(32, activation='relu'),\n",
    "    Dense(32, activation='relu'),\n",
    "    Dense(32, activation='relu'),\n",
    "    Dense(32, activation='relu'),\n",
    "    Dense(32, activation='relu'),\n",
    "    Dense(32, activation='relu'),\n",
    "    Dense(32, activation='relu'),\n",
    "    Dense(10, activation='sigmoid')\n",
    "])\n",
    "\n",
    "model_6.summary()"
   ]
  },
  {
   "cell_type": "code",
   "execution_count": 21,
   "id": "ee10d4be",
   "metadata": {},
   "outputs": [
    {
     "name": "stdout",
     "output_type": "stream",
     "text": [
      "Epoch 1/5\n",
      "235/235 [==============================] - 1s 5ms/step - loss: 0.4400 - accuracy: 0.8489 - val_loss: 0.4708 - val_accuracy: 0.8345\n",
      "Epoch 2/5\n",
      "235/235 [==============================] - 1s 5ms/step - loss: 0.4373 - accuracy: 0.8490 - val_loss: 0.4688 - val_accuracy: 0.8369\n",
      "Epoch 3/5\n",
      "235/235 [==============================] - 1s 5ms/step - loss: 0.4346 - accuracy: 0.8498 - val_loss: 0.4677 - val_accuracy: 0.8345\n",
      "Epoch 4/5\n",
      "235/235 [==============================] - 1s 5ms/step - loss: 0.4323 - accuracy: 0.8504 - val_loss: 0.4658 - val_accuracy: 0.8382\n",
      "Epoch 5/5\n",
      "235/235 [==============================] - 2s 7ms/step - loss: 0.4297 - accuracy: 0.8521 - val_loss: 0.4607 - val_accuracy: 0.8373\n"
     ]
    }
   ],
   "source": [
    "model_6.compile(loss='categorical_crossentropy', optimizer='SGD', metrics=['accuracy'])\n",
    "\n",
    "history_6 = model_1.fit(X_train, y_train,\n",
    "                    epochs=5,\n",
    "                    batch_size=256,\n",
    "                    verbose=1,\n",
    "                    validation_data=(X_test, y_test)\n",
    "                    )"
   ]
  },
  {
   "cell_type": "markdown",
   "id": "1066858d",
   "metadata": {},
   "source": [
    "Что касается количества слоев, мы можем увидеть, что добавление третьего слоя заметно улучшает метрики - то есть качество результата; дальнейшее же увеличение количества слоев при близких количествах тренируемых параметров не дает заметного улучшения: скорее всего, те улучшения метрик, которые можно увидеть, связаны с небольшим увеличением количества тренируемых параметров."
   ]
  },
  {
   "cell_type": "markdown",
   "id": "0d359e56",
   "metadata": {},
   "source": [
    "Работу оптимизаторов я буду проверять на model_4, потому что, на мой взляд она оптимальная для данного датасета."
   ]
  },
  {
   "cell_type": "code",
   "execution_count": 22,
   "id": "c51045cd",
   "metadata": {},
   "outputs": [
    {
     "name": "stdout",
     "output_type": "stream",
     "text": [
      "Model: \"sequential_6\"\n",
      "_________________________________________________________________\n",
      " Layer (type)                Output Shape              Param #   \n",
      "=================================================================\n",
      " dense_24 (Dense)            (None, 64)                50240     \n",
      "                                                                 \n",
      " dense_25 (Dense)            (None, 32)                2080      \n",
      "                                                                 \n",
      " dense_26 (Dense)            (None, 10)                330       \n",
      "                                                                 \n",
      "=================================================================\n",
      "Total params: 52,650\n",
      "Trainable params: 52,650\n",
      "Non-trainable params: 0\n",
      "_________________________________________________________________\n"
     ]
    }
   ],
   "source": [
    "model_optimize = Sequential([\n",
    "    Dense(64, input_shape=(28 * 28,), activation='relu'),\n",
    "    Dense(32, activation='relu'),\n",
    "    Dense(10, activation='sigmoid')\n",
    "])\n",
    "\n",
    "model_optimize.summary()"
   ]
  },
  {
   "cell_type": "code",
   "execution_count": 23,
   "id": "f194054c",
   "metadata": {},
   "outputs": [],
   "source": [
    "model_optimize.save_weights('model_weights.h5')"
   ]
  },
  {
   "cell_type": "code",
   "execution_count": 24,
   "id": "db8dfa1c",
   "metadata": {},
   "outputs": [
    {
     "name": "stdout",
     "output_type": "stream",
     "text": [
      "Epoch 1/4\n",
      "1875/1875 [==============================] - 7s 3ms/step - loss: 0.7718 - accuracy: 0.7402 - val_loss: 0.5443 - val_accuracy: 0.8111\n",
      "Epoch 2/4\n",
      "1875/1875 [==============================] - 6s 3ms/step - loss: 0.4993 - accuracy: 0.8260 - val_loss: 0.5410 - val_accuracy: 0.7997\n",
      "Epoch 3/4\n",
      "1875/1875 [==============================] - 7s 4ms/step - loss: 0.4528 - accuracy: 0.8424 - val_loss: 0.4686 - val_accuracy: 0.8367\n",
      "Epoch 4/4\n",
      "1875/1875 [==============================] - 7s 4ms/step - loss: 0.4260 - accuracy: 0.8515 - val_loss: 0.4460 - val_accuracy: 0.8430\n",
      "====================\n",
      "Epoch 1/4\n",
      "1875/1875 [==============================] - 9s 4ms/step - loss: 0.5206 - accuracy: 0.8145 - val_loss: 0.4312 - val_accuracy: 0.8443\n",
      "Epoch 2/4\n",
      "1875/1875 [==============================] - 7s 4ms/step - loss: 0.3881 - accuracy: 0.8593 - val_loss: 0.4008 - val_accuracy: 0.8609\n",
      "Epoch 3/4\n",
      "1875/1875 [==============================] - 10s 5ms/step - loss: 0.3541 - accuracy: 0.8727 - val_loss: 0.3858 - val_accuracy: 0.8695\n",
      "Epoch 4/4\n",
      "1875/1875 [==============================] - 8s 4ms/step - loss: 0.3397 - accuracy: 0.8809 - val_loss: 0.3867 - val_accuracy: 0.8681\n",
      "====================\n",
      "Epoch 1/4\n",
      "1875/1875 [==============================] - 11s 5ms/step - loss: 0.5155 - accuracy: 0.8184 - val_loss: 0.4381 - val_accuracy: 0.8438\n",
      "Epoch 2/4\n",
      "1875/1875 [==============================] - 10s 5ms/step - loss: 0.3827 - accuracy: 0.8618 - val_loss: 0.4037 - val_accuracy: 0.8575\n",
      "Epoch 3/4\n",
      "1875/1875 [==============================] - 7s 4ms/step - loss: 0.3467 - accuracy: 0.8736 - val_loss: 0.3940 - val_accuracy: 0.8573\n",
      "Epoch 4/4\n",
      "1875/1875 [==============================] - 7s 4ms/step - loss: 0.3231 - accuracy: 0.8807 - val_loss: 0.3703 - val_accuracy: 0.8682\n",
      "====================\n"
     ]
    },
    {
     "data": {
      "image/png": "[encoded data removed]",
      "text/plain": [
       "<Figure size 1152x504 with 1 Axes>"
      ]
     },
     "metadata": {
      "needs_background": "light"
     },
     "output_type": "display_data"
    },
    {
     "name": "stdout",
     "output_type": "stream",
     "text": [
      "CPU times: total: 3min 21s\n",
      "Wall time: 1min 57s\n"
     ]
    }
   ],
   "source": [
    "%%time\n",
    "\n",
    "models = {}\n",
    "\n",
    "plt.figure(figsize=(16, 7))\n",
    "colors = ['g', 'b', 'r', 'y']\n",
    "\n",
    "num_epochs = 4\n",
    "batch_size = 32\n",
    "\n",
    "epoch = np.arange(num_epochs+1)\n",
    "\n",
    "for i, i_optim in enumerate([keras.optimizers.gradient_descent_v2.SGD(),\n",
    "                             keras.optimizers.rmsprop_v2.RMSprop(),\n",
    "                             keras.optimizers.adam_v2.Adam()]):\n",
    "    \n",
    "    model_i = Sequential([\n",
    "        Dense(64, activation='relu', input_shape=(784,)),\n",
    "        Dense(32, activation='relu'),\n",
    "        Dense(10, activation='sigmoid'),\n",
    "    ])\n",
    "    \n",
    "    model_i.load_weights('model_weights.h5')\n",
    "    \n",
    "    model_i.compile(\n",
    "        optimizer=i_optim,\n",
    "        loss='categorical_crossentropy',\n",
    "        metrics=['accuracy'],\n",
    "        )\n",
    "    \n",
    "    h0_train = model_i.evaluate(X_train, y_train, verbose=0)\n",
    "    h0_val = model_i.evaluate(X_test, y_test, verbose=0)\n",
    "\n",
    "    h = model_i.fit(X_train, y_train,\n",
    "                    epochs=num_epochs,\n",
    "                    batch_size=batch_size,\n",
    "                    validation_data=(X_test, y_test),\n",
    "                    verbose=1)\n",
    "    \n",
    "    models[i_optim.get_config()['name']] = model_i\n",
    "\n",
    "    plt.plot(epoch, np.log([h0_train[0]] + h.history['loss']),\n",
    "             '-', c=colors[i],\n",
    "             label=model_i.optimizer.get_config()['name'] + ' train')\n",
    "    plt.plot(epoch, np.log([h0_val[0]] + h.history['val_loss']),\n",
    "             '--', c=colors[i],\n",
    "             label=model_i.optimizer.get_config()['name'] + ' val')\n",
    "    print('=' * 20)\n",
    "\n",
    "plt.legend()\n",
    "plt.title('нейросети от оптимизатора log(loss)')\n",
    "plt.xlabel('epoch')\n",
    "plt.ylabel('log(loss)')\n",
    "plt.show()"
   ]
  },
  {
   "cell_type": "code",
   "execution_count": 25,
   "id": "5f1b3b2f",
   "metadata": {},
   "outputs": [
    {
     "name": "stdout",
     "output_type": "stream",
     "text": [
      "1/1 [==============================] - 0s 173ms/step\n"
     ]
    },
    {
     "data": {
      "image/png": "[encoded data removed]",
      "text/plain": [
       "<Figure size 2160x720 with 10 Axes>"
      ]
     },
     "metadata": {
      "needs_background": "light"
     },
     "output_type": "display_data"
    }
   ],
   "source": [
    "model_i = models['Adam']\n",
    "\n",
    "N = 10\n",
    "y_pred = model_i.predict(X_test[:N, :])\n",
    "y_pred_class = np.argmax(y_pred, axis=1)\n",
    "plt.figure(figsize=(3 * N, 10))\n",
    "\n",
    "for i in range(N):\n",
    "  plt.subplot(1, N, i+1)\n",
    "  plt.imshow(X_test[i,:].reshape(28, 28))\n",
    "  plt.xlabel(str(y_pred_class[i]))\n",
    "plt.show()  "
   ]
  },
  {
   "cell_type": "code",
   "execution_count": 26,
   "id": "aa96f023",
   "metadata": {},
   "outputs": [
    {
     "data": {
      "text/plain": [
       "array([9, 2, 1, 1, 6, 1, 4, 6, 5, 7], dtype=int64)"
      ]
     },
     "execution_count": 26,
     "metadata": {},
     "output_type": "execute_result"
    }
   ],
   "source": [
    "y_pred_class"
   ]
  },
  {
   "cell_type": "markdown",
   "id": "54796c70",
   "metadata": {},
   "source": [
    "Предсказание этой нейросети не так очевидно, как то, что было на уроке. Но визуально можно предположить, что оно правильное: например, к классу 1 относятся все штаны и т.д. Из оптимизаторов, ожидаемо, лучший вариант показал Adam: вероятно, результат не настолько хороший, как на датасете, представленном на уроке, но можно предположить, что картинки из этого датасета сложнее для распознавания. В итоге на качество классификации влияет и количество нейронов в сети, и количество слоев соответственно, и оптимизаторы. Но нет смысла избыточно увеличивать сложности сети: при возрастающем времени обработки данных качество увеличивается незначительно. "
   ]
  },
  {
   "cell_type": "code",
   "execution_count": 27,
   "id": "b39182ba",
   "metadata": {},
   "outputs": [
    {
     "name": "stdout",
     "output_type": "stream",
     "text": [
      "313/313 [==============================] - 1s 2ms/step\n",
      "[[880   1   9  20   4   0  77   0   9   0]\n",
      " [  3 966   1  21   3   0   6   0   0   0]\n",
      " [ 22   0 840  10  61   0  67   0   0   0]\n",
      " [ 40  11  16 869  37   0  24   0   3   0]\n",
      " [  0   0 151  24 724   0 101   0   0   0]\n",
      " [  0   0   0   1   0 958   0  14   2  25]\n",
      " [180   1 109  25  53   0 625   0   7   0]\n",
      " [  0   0   0   0   0  54   0 904   1  41]\n",
      " [  4   2   2   6   5   3  13   2 963   0]\n",
      " [  0   0   0   1   0  14   1  31   0 953]]\n"
     ]
    }
   ],
   "source": [
    "from sklearn.metrics import confusion_matrix\n",
    "\n",
    "y_pred = model_i.predict(X_test)\n",
    "y_pred = np.argmax(y_pred, axis=1)\n",
    "y_test = np.argmax(y_test, axis=1)\n",
    "cm=confusion_matrix(y_test, y_pred)\n",
    "print(cm)"
   ]
  },
  {
   "cell_type": "code",
   "execution_count": 28,
   "id": "37858186",
   "metadata": {},
   "outputs": [
    {
     "name": "stdout",
     "output_type": "stream",
     "text": [
      "[[[8751  249]\n",
      "  [ 120  880]]\n",
      "\n",
      " [[8985   15]\n",
      "  [  34  966]]\n",
      "\n",
      " [[8712  288]\n",
      "  [ 160  840]]\n",
      "\n",
      " [[8892  108]\n",
      "  [ 131  869]]\n",
      "\n",
      " [[8837  163]\n",
      "  [ 276  724]]\n",
      "\n",
      " [[8929   71]\n",
      "  [  42  958]]\n",
      "\n",
      " [[8711  289]\n",
      "  [ 375  625]]\n",
      "\n",
      " [[8953   47]\n",
      "  [  96  904]]\n",
      "\n",
      " [[8978   22]\n",
      "  [  37  963]]\n",
      "\n",
      " [[8934   66]\n",
      "  [  47  953]]]\n"
     ]
    }
   ],
   "source": [
    "import sklearn.metrics\n",
    "r = sklearn.metrics.multilabel_confusion_matrix(y_test, y_pred)\n",
    "print(r)"
   ]
  }
 ],
 "metadata": {
  "kernelspec": {
   "display_name": "Python 3 (ipykernel)",
   "language": "python",
   "name": "python3"
  },
  "language_info": {
   "codemirror_mode": {
    "name": "ipython",
    "version": 3
   },
   "file_extension": ".py",
   "mimetype": "text/x-python",
   "name": "python",
   "nbconvert_exporter": "python",
   "pygments_lexer": "ipython3",
   "version": "3.9.12"
  }
 },
 "nbformat": 4,
 "nbformat_minor": 5
}
